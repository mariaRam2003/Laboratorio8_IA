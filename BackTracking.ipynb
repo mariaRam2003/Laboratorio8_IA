{
 "cells": [
  {
   "cell_type": "code",
   "execution_count": 22,
   "metadata": {},
   "outputs": [
    {
     "name": "stdout",
     "output_type": "stream",
     "text": [
      "Solución encontrada con Backtracking Search:\n",
      "{'Matemáticas': 'Lunes', 'Física': 'Martes', 'Química': 'Miércoles'}\n"
     ]
    }
   ],
   "source": [
    "class BacktrackingSearch:\n",
    "    def __init__(self, exams, students):\n",
    "        self.exams = exams\n",
    "        self.students = students\n",
    "        self.solution = {}\n",
    "\n",
    "    def is_valid_assignment(self, exam, day):\n",
    "        # Verificar si el día ya está asignado a otro examen\n",
    "        if day in self.solution.values():\n",
    "            return False\n",
    "        \n",
    "        # Verificar si el estudiante ya tiene 3 exámenes asignados\n",
    "        for student, exams_taken in self.students.items():\n",
    "            if len([day for day in self.solution.values() if day in exams_taken]) >= 3:\n",
    "                return False\n",
    "        \n",
    "        # Verificar si los estudiantes que toman el mismo curso tienen el examen en días diferentes\n",
    "        for student, exams_taken in self.students.items():\n",
    "            if exam in exams_taken and day in self.solution.values():\n",
    "                return False\n",
    "        \n",
    "        return True\n",
    "\n",
    "    def backtrack(self, exam_index):\n",
    "        if exam_index == len(self.exams):\n",
    "            return True  # Todos los exámenes asignados, solución encontrada\n",
    "        \n",
    "        exam = self.exams[exam_index]\n",
    "        for day in [\"Lunes\", \"Martes\", \"Miércoles\"]:\n",
    "            if self.is_valid_assignment(exam, day):\n",
    "                self.solution[exam] = day\n",
    "                \n",
    "                if self.backtrack(exam_index + 1):\n",
    "                    return True  # Solución encontrada\n",
    "                \n",
    "                # Si la asignación no lleva a una solución, retroceder\n",
    "                del self.solution[exam]\n",
    "        \n",
    "        return False  # No hay solución para este nodo\n",
    "\n",
    "    def solve(self):\n",
    "        if self.backtrack(0):\n",
    "            return self.solution\n",
    "        else:\n",
    "            return None\n",
    "\n",
    "# Uso\n",
    "exams = [\"Matemáticas\", \"Física\", \"Química\", \"Biología\", \"Historia\", \"Literatura\", \"Inglés\"]\n",
    "students = {\n",
    "    \"Estudiante1\": [\"Matemáticas\", \"Física\"],\n",
    "    \"Estudiante2\": [\"Química\", \"Biología\"],\n",
    "    \"Estudiante3\": [\"Historia\", \"Literatura\"],\n",
    "    \"Estudiante4\": [\"Matemáticas\", \"Inglés\"]\n",
    "}\n",
    "\n",
    "# Convertir los días de la semana a una lista de strings\n",
    "days = [\"Lunes\", \"Martes\", \"Miércoles\"]\n",
    "\n",
    "# Crear diccionario de estudiantes con sus días de exámenes\n",
    "student_days = {student: [] for student in students}\n",
    "\n",
    "backtracking_solver = BacktrackingSearch(exams, student_days)\n",
    "\n",
    "# Iterar sobre cada examen y asignar un día\n",
    "for exam in exams:\n",
    "    assigned = False\n",
    "    for day in days:\n",
    "        if backtracking_solver.is_valid_assignment(exam, day):\n",
    "            backtracking_solver.solution[exam] = day\n",
    "            assigned = True\n",
    "            break\n",
    "\n",
    "print(\"Solución encontrada con Backtracking Search:\")\n",
    "print(backtracking_solver.solution)\n"
   ]
  }
 ],
 "metadata": {
  "kernelspec": {
   "display_name": "Python 3",
   "language": "python",
   "name": "python3"
  },
  "language_info": {
   "codemirror_mode": {
    "name": "ipython",
    "version": 3
   },
   "file_extension": ".py",
   "mimetype": "text/x-python",
   "name": "python",
   "nbconvert_exporter": "python",
   "pygments_lexer": "ipython3",
   "version": "3.11.4"
  }
 },
 "nbformat": 4,
 "nbformat_minor": 2
}
