{
 "cells": [
  {
   "cell_type": "markdown",
   "metadata": {},
   "source": [
    "## Conclusiones\n",
    "\n",
    "#### Tiempo de ejecución:\n",
    "- Backtracking Search fue el más rápido, con un tiempo de ejecución de 0.00052 segundos. Esto se debe a que el algoritmo de retroceso explora exhaustivamente todas las posibles soluciones, lo que puede ser eficiente para problemas de tamaño pequeño a moderado como el problema de programación de exámenes.\n",
    "- Local Search tuvo un tiempo de ejecución de 0.00354 segundos, que es ligeramente mayor que el de Backtracking Search pero aún así bastante rápido. Aunque el tiempo de ejecución puede variar dependiendo de la complejidad del problema y la heurística utilizada para explorar soluciones vecinas, en general, la búsqueda local es eficiente en problemas con muchas soluciones factibles.\n",
    "- Beam Search tuvo un tiempo de ejecución promedio de alrededor de 1.32 segundos, que fue el más lento entre los tres algoritmos. Esto se debe a que Beam Search explora un espacio de búsqueda más limitado en comparación con Backtracking Search y Local Search, y puede requerir más iteraciones para encontrar una solución óptima.\n",
    "\n",
    "#### Calidad de la solución:\n",
    "- Tanto Backtracking Search como Beam Search encontraron soluciones sin violaciones de restricciones, lo que indica que son capaces de encontrar soluciones factibles para el problema de programación de exámenes. \n",
    "- Sin embargo, Local Search encontró una solución con una violación de restricción, lo que indica que puede quedarse atrapado en óptimos locales y no garantiza encontrar la mejor solución global en todos los casos. Esto puede ser una limitación en problemas donde la función objetivo no es convexa y tiene múltiples óptimos locales.\n",
    "\n",
    "#### Escalabilidad:\n",
    "- Backtracking Search y Local Search tienen tiempos de ejecución independientes de la complejidad del problema, ya que su enfoque de búsqueda no depende del tamaño del espacio de búsqueda. Esto los hace adecuados para problemas de tamaño variable y con diferentes niveles de complejidad.\n",
    "- Por otro lado, Beam Search es sensible a la complejidad del problema debido a su naturaleza de búsqueda aleatoria y su dependencia del ancho de haz (beam width). A medida que el tamaño del espacio de búsqueda aumenta, el rendimiento de Beam Search puede deteriorarse debido a la necesidad de explorar un número mayor de soluciones antes de encontrar una solución óptima o aceptable.\n"
   ]
  }
 ],
 "metadata": {
  "language_info": {
   "name": "python"
  }
 },
 "nbformat": 4,
 "nbformat_minor": 2
}
