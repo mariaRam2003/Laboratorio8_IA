{
 "cells": [
  {
   "cell_type": "code",
   "execution_count": 22,
   "metadata": {},
   "outputs": [],
   "source": [
    "from dataclasses import dataclass\n",
    "import matplotlib.pyplot as plt\n",
    "from enum import Enum\n",
    "import random\n",
    "import copy \n",
    "import time"
   ]
  },
  {
   "cell_type": "markdown",
   "metadata": {},
   "source": [
    "## Clases utiles para visualizar los resultados"
   ]
  },
  {
   "cell_type": "code",
   "execution_count": 15,
   "metadata": {},
   "outputs": [],
   "source": [
    "@dataclass\n",
    "class Node:\n",
    "    student_info: list\n",
    "    calendar: list\n",
    "\n",
    "class Student(Enum):\n",
    "    GUSTAVO = 0\n",
    "    GABRIELA = 1\n",
    "    JUAN = 2\n",
    "    LUIS = 3\n",
    "\n",
    "class Subject(Enum):\n",
    "    MATH = 0\n",
    "    HISTORY = 1\n",
    "    PHYSICS = 2\n",
    "    CHEMISTRY = 3\n",
    "    SPANISH = 4\n",
    "    ENGLISH = 5\n",
    "    BIOLOGY = 6\n",
    "\n",
    "class Day(Enum):\n",
    "    MONDAY = 0\n",
    "    TUESDAY = 1\n",
    "    WEDNESDAY = 2\n",
    "\n",
    "MAX_CLASSES_PER_STUDENT = 3\n",
    "MAX_CLASSES_PER_DAY = len(Student)"
   ]
  },
  {
   "cell_type": "markdown",
   "metadata": {},
   "source": [
    "## Inicialización del Estado Inicial"
   ]
  },
  {
   "cell_type": "code",
   "execution_count": 16,
   "metadata": {},
   "outputs": [],
   "source": [
    "global_subjects = list(Subject)\n",
    "\n",
    "def pick_subjects():\n",
    "    \"\"\"Esta funcion se encarga de asignar materias a los estudiantes de la forma mas diversa posible.\n",
    "    Esto es importante porque de lo contrario se podria dar el caso de que todos los estudiantes se \n",
    "    asignen las mismas materias y no se pueda resolver el problema.\n",
    "    \"\"\"\n",
    "    global global_subjects\n",
    "    \n",
    "    if len(global_subjects) == 0:\n",
    "        global_subjects = list(Subject)\n",
    "    \n",
    "    if len(global_subjects) < MAX_CLASSES_PER_STUDENT:\n",
    "        classes = [global_subjects.pop() for _ in range(len(global_subjects))]\n",
    "        len_classes = len(classes)\n",
    "        global_subjects = list(Subject)\n",
    "        random.shuffle(global_subjects)\n",
    "\n",
    "        for _ in range(MAX_CLASSES_PER_STUDENT - len_classes):\n",
    "            classes.append(global_subjects.pop())\n",
    "    else:\n",
    "        random.shuffle(global_subjects)\n",
    "        classes = [global_subjects.pop() for _ in range(MAX_CLASSES_PER_STUDENT)]\n",
    "\n",
    "    return classes\n",
    "\n",
    "def do_calendar(student_info):\n",
    "    calendar = {day: [] for day in Day}\n",
    "\n",
    "    for student in Student:\n",
    "        for subject, day in student_info[student]:\n",
    "            calendar[day].append(subject)\n",
    "\n",
    "    return calendar\n",
    "\n",
    "              \n",
    "def initial_node_initializer():\n",
    "    \"\"\"\n",
    "    Esta funcion se encarga de inicializar las variables de forma que se asegure\n",
    "    que el problema se pueda resolver. Es decir que todos los estudiantes no se \n",
    "    asignen mas materias de las que hay dias; y que no los alumnos no se asignen todos\n",
    "    exactamente las mismas materias.\n",
    "    \"\"\"\n",
    "    student_info = {}\n",
    "    \n",
    "\n",
    "    for student in Student:\n",
    "        classes = pick_subjects()\n",
    "        days = random.sample(list(Day), MAX_CLASSES_PER_STUDENT)\n",
    "        student_info[student] = list(zip(classes, days))\n",
    "\n",
    "    calendar = do_calendar(student_info)\n",
    "        \n",
    "    return Node(student_info, calendar)\n"
   ]
  },
  {
   "cell_type": "markdown",
   "metadata": {},
   "source": [
    "## Funciones Utiles para Beam Search"
   ]
  },
  {
   "cell_type": "code",
   "execution_count": 17,
   "metadata": {},
   "outputs": [],
   "source": [
    "def scoring_function(node: Node):\n",
    "    \"\"\"\n",
    "    Esta funcion se encarga de evaluar la calidad de la solucion propuesta, en este caso la calendarizacion.\n",
    "    \"\"\"\n",
    "    calendar = node.calendar\n",
    "    repeated_subjects_count = 0\n",
    "\n",
    "    for day in calendar.keys():        \n",
    "        days_set = set(calendar[day])        \n",
    "        if len(days_set) < MAX_CLASSES_PER_DAY:\n",
    "            repeated_subjects_count +=  MAX_CLASSES_PER_DAY - len(days_set) \n",
    "\n",
    "    return repeated_subjects_count\n",
    "\n",
    "\n",
    "def huristic(node: Node):\n",
    "    \"\"\"\n",
    "    implementar la heuristica para resolver el problema. Permutar los dias de los examenes de los estudiantes\n",
    "    \"\"\"\n",
    "    student_info = copy.deepcopy(node.student_info)\n",
    "\n",
    "    students_selected = random.sample(list(Student), 2)\n",
    "    student1, student2 = students_selected\n",
    "\n",
    "    random.shuffle(student_info[student1])\n",
    "    stud1_class = list(student_info[student1].pop())\n",
    "\n",
    "    random.shuffle(student_info[student2])\n",
    "    stud2_class = list(student_info[student2].pop())\n",
    "\n",
    "    stud1_class_day = stud1_class[1]\n",
    "    stud2_class_day = stud2_class[1]\n",
    "\n",
    "    stud1_class[1] = stud2_class_day\n",
    "    stud2_class[1] = stud1_class_day\n",
    "\n",
    "    student_info[student1].append(tuple(stud1_class))\n",
    "    student_info[student2].append(tuple(stud2_class))\n",
    "\n",
    "    return Node(student_info, do_calendar(student_info))\n"
   ]
  },
  {
   "cell_type": "markdown",
   "metadata": {},
   "source": [
    "## Beam Search Class"
   ]
  },
  {
   "cell_type": "code",
   "execution_count": 18,
   "metadata": {},
   "outputs": [],
   "source": [
    "class BeamSearch:\n",
    "    def __init__(self, score_function: callable, heuristic: callable, initial_object,\\\n",
    "                  best_score=0, beam_width=2, max_iterations=100):\n",
    "        \"\"\"\n",
    "        Args:\n",
    "            score_function (callable): Esta funcion toma como parametro el objeto tipo initial object y retorna un valor numerico\n",
    "            heuristic (callable): La modificacion que se va a hacer al objeto para generar nuevos objetos\n",
    "            initial_object (_type_): El objeto del estado inicial\n",
    "            beam_width (int, optional): Beam width. Defaults to 2.\n",
    "            max_iterations (int, optional): Cantidad máxima de iteraciones. Defaults to 100.\n",
    "        \"\"\"\n",
    "\n",
    "        # Functions\n",
    "        self.score_function = score_function\n",
    "        self.heuristic = heuristic\n",
    "\n",
    "        # Object\n",
    "        self.initial_object = initial_object\n",
    "\n",
    "        # Hyperparameters\n",
    "        self.beam_width = beam_width\n",
    "        self.max_iterations = max_iterations\n",
    "        self.best_score = best_score\n",
    "\n",
    "        self.best_node = None        \n",
    "        self.best_object = None\n",
    "\n",
    "        # C list\n",
    "        self.C = [(initial_object, self.score_function(initial_object))]\n",
    "\n",
    "\n",
    "    def _iteration(self):        \n",
    "        current = []\n",
    "        for object_tuple in self.C:\n",
    "            for _ in range(self.beam_width):\n",
    "                new_object = self.heuristic(object_tuple[0])\n",
    "                new_score = self.score_function(new_object)\n",
    "\n",
    "                current.append(tuple((new_object, new_score)))\n",
    "            \n",
    "        self.C += current\n",
    "\n",
    "        # Ordenamos la lista de acuerdo a la funcion de scoring\n",
    "        self.C = sorted(self.C, key=lambda x: x[1])\n",
    "\n",
    "        # Nos quedamos con los mejores elementos\n",
    "        if len(self.C) > self.beam_width:\n",
    "            self.C = self.C[:self.beam_width]\n",
    "\n",
    "\n",
    "    def search(self):\n",
    "        # revisamos que el caso inicial sea el mejor\n",
    "        if self.score_function(self.initial_object) == self.best_score:\n",
    "            return self.initial_object, self.best_score\n",
    "\n",
    "        for _ in range(self.max_iterations):\n",
    "            self._iteration()\n",
    "\n",
    "        self.best_object = self.C[0]\n",
    "        best_object_score = self.best_object[1]\n",
    "\n",
    "        return self.best_object, best_object_score\n",
    "    "
   ]
  },
  {
   "cell_type": "markdown",
   "metadata": {},
   "source": [
    "## Performace"
   ]
  },
  {
   "cell_type": "code",
   "execution_count": 21,
   "metadata": {},
   "outputs": [
    {
     "name": "stdout",
     "output_type": "stream",
     "text": [
      "[0.03369903564453125, 0.03560614585876465, 5.0067901611328125e-06, 5.245208740234375e-06, 0.03293800354003906, 0.037631988525390625, 0.027837038040161133, 5.9604644775390625e-06, 0.031061887741088867, 0.030168771743774414, 0.0293581485748291, 0.02867293357849121, 0.02919316291809082, 0.028963088989257812, 0.030623912811279297, 0.030271291732788086, 6.198883056640625e-06, 5.0067901611328125e-06, 0.02981400489807129, 0.029618024826049805, 0.027991056442260742, 0.030523061752319336, 0.03214097023010254, 0.02794504165649414, 0.03000664710998535, 0.02917194366455078, 0.02856612205505371, 6.9141387939453125e-06, 5.7220458984375e-06, 0.02920699119567871, 0.030082225799560547, 0.029775142669677734, 0.02865910530090332, 0.028553009033203125, 5.9604644775390625e-06, 5.9604644775390625e-06, 0.02838301658630371, 0.028678178787231445, 0.027675151824951172, 0.030205965042114258, 0.028970956802368164, 0.028923749923706055, 5.9604644775390625e-06, 0.027598857879638672, 0.029115915298461914, 0.03224897384643555, 0.0300140380859375, 0.02826714515686035, 6.198883056640625e-06, 0.027276039123535156, 0.0301358699798584, 0.02756977081298828, 0.02924489974975586, 0.027075767517089844, 0.0280911922454834, 0.028037309646606445, 0.02777409553527832, 6.198883056640625e-06, 0.027890920639038086, 0.028162240982055664, 0.027550935745239258, 0.028539180755615234, 0.027714014053344727, 0.026846885681152344, 0.027636051177978516, 0.028522968292236328, 0.028635740280151367, 0.029640913009643555, 0.02825307846069336, 0.02774190902709961, 0.02811598777770996, 0.027974843978881836, 0.028174161911010742, 0.029068946838378906, 0.028605937957763672, 0.027838945388793945, 5.0067901611328125e-06, 0.027489662170410156, 0.026691198348999023, 0.02821207046508789, 0.027419090270996094, 0.027635812759399414, 5.9604644775390625e-06, 0.026647090911865234, 0.027971982955932617, 0.03115391731262207, 0.026948213577270508, 5.9604644775390625e-06, 0.0269167423248291, 0.028678178787231445, 0.02903890609741211, 0.029017925262451172, 0.040550947189331055, 0.062023162841796875, 6.9141387939453125e-06, 0.06645822525024414, 0.04731178283691406, 7.152557373046875e-06, 0.029278993606567383, 7.152557373046875e-06]\n",
      "[0, 0, 0, 0, 0, 0, 0, 0, 0, 0, 0, 0, 0, 0, 0, 0, 0, 0, 0, 0, 0, 0, 0, 0, 0, 0, 0, 0, 0, 0, 0, 0, 0, 0, 0, 0, 0, 0, 0, 0, 0, 0, 0, 0, 0, 0, 0, 0, 0, 0, 0, 0, 0, 0, 0, 0, 0, 0, 0, 0, 0, 0, 0, 0, 0, 0, 0, 0, 0, 0, 0, 0, 0, 0, 0, 0, 0, 0, 0, 0, 0, 0, 0, 0, 0, 0, 0, 0, 0, 0, 0, 0, 0, 0, 0, 0, 0, 0, 0, 0]\n"
     ]
    }
   ],
   "source": [
    "max_iter = 10\n",
    "tests = 100\n",
    "beam_width = 5\n",
    "execution_times = []\n",
    "execution_scores = []\n",
    "\n",
    "for i in range(tests):\n",
    "    init = initial_node_initializer()\n",
    "    beam_search = BeamSearch(scoring_function, huristic, init, beam_width=beam_width, max_iterations=max_iter)\n",
    "\n",
    "    start_time = time.time()\n",
    "    best_object, best_score = beam_search.search()\n",
    "    end_time = time.time()\n",
    "\n",
    "    execution_time = end_time - start_time\n",
    "    execution_times.append(execution_time)\n",
    "    execution_scores.append(best_score)\n",
    "\n",
    "print(execution_times)\n",
    "print(execution_scores)"
   ]
  },
  {
   "cell_type": "code",
   "execution_count": 25,
   "metadata": {},
   "outputs": [
    {
     "data": {
      "image/png": "[encoded data removed]",
      "text/plain": [
       "<Figure size 1000x600 with 1 Axes>"
      ]
     },
     "metadata": {},
     "output_type": "display_data"
    }
   ],
   "source": [
    "plt.figure(figsize=(10, 6))\n",
    "plt.bar(range(len(execution_times)), execution_times)\n",
    "plt.title('Bar Chart')\n",
    "plt.xlabel('Labels')\n",
    "plt.ylabel('Data')\n",
    "plt.grid(True)\n",
    "plt.show()"
   ]
  },
  {
   "cell_type": "markdown",
   "metadata": {},
   "source": [
    "Todos los casos fuerone exitosos lo unico que varió fue el tiempo de ejecución."
   ]
  }
 ],
 "metadata": {
  "kernelspec": {
   "display_name": "Python 3",
   "language": "python",
   "name": "python3"
  },
  "language_info": {
   "codemirror_mode": {
    "name": "ipython",
    "version": 3
   },
   "file_extension": ".py",
   "mimetype": "text/x-python",
   "name": "python",
   "nbconvert_exporter": "python",
   "pygments_lexer": "ipython3",
   "version": "3.9.2"
  }
 },
 "nbformat": 4,
 "nbformat_minor": 2
}
