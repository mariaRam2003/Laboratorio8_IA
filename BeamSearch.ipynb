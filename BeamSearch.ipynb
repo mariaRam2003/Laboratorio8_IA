{
 "cells": [
  {
   "cell_type": "code",
   "execution_count": 1,
   "metadata": {},
   "outputs": [],
   "source": [
    "from dataclasses import dataclass\n",
    "from enum import Enum\n",
    "import random"
   ]
  },
  {
   "cell_type": "markdown",
   "metadata": {},
   "source": [
    "## Clases utiles para visualizar los resultados"
   ]
  },
  {
   "cell_type": "code",
   "execution_count": 2,
   "metadata": {},
   "outputs": [],
   "source": [
    "@dataclass\n",
    "class Node:\n",
    "    student_info: list\n",
    "    calendar: list\n",
    "\n",
    "class Student(Enum):\n",
    "    GUSTAVO = 0\n",
    "    GABRIELA = 1\n",
    "    JUAN = 2\n",
    "    LUIS = 3\n",
    "\n",
    "class Subject(Enum):\n",
    "    MATH = 0\n",
    "    HISTORY = 1\n",
    "    PHYSICS = 2\n",
    "    CHEMISTRY = 3\n",
    "    SPANISH = 4\n",
    "    ENGLISH = 5\n",
    "    BIOLOGY = 6\n",
    "\n",
    "class Day(Enum):\n",
    "    MONDAY = 0\n",
    "    TUESDAY = 1\n",
    "    WEDNESDAY = 2\n",
    "\n",
    "MAX_CLASSES_PER_STUDENT = 3\n",
    "MAX_CLASSES_PER_DAY = len(Student)"
   ]
  },
  {
   "cell_type": "markdown",
   "metadata": {},
   "source": [
    "## Inicialización del Estado Inicial"
   ]
  },
  {
   "cell_type": "code",
   "execution_count": 13,
   "metadata": {},
   "outputs": [],
   "source": [
    "global_subjects = list(Subject)\n",
    "\n",
    "def pick_subjects():\n",
    "    \"\"\"Esta funcion se encarga de asignar materias a los estudiantes de la forma mas diversa posible.\n",
    "    Esto es importante porque de lo contrario se podria dar el caso de que todos los estudiantes se \n",
    "    asignen las mismas materias y no se pueda resolver el problema.\n",
    "    \"\"\"\n",
    "    global global_subjects\n",
    "    \n",
    "    if len(global_subjects) == 0:\n",
    "        global_subjects = list(Subject)\n",
    "    \n",
    "    if len(global_subjects) < MAX_CLASSES_PER_STUDENT:\n",
    "        classes = [global_subjects.pop() for _ in range(len(global_subjects))]\n",
    "        len_classes = len(classes)\n",
    "        global_subjects = list(Subject)\n",
    "        random.shuffle(global_subjects)\n",
    "\n",
    "        for _ in range(MAX_CLASSES_PER_STUDENT - len_classes):\n",
    "            classes.append(global_subjects.pop())\n",
    "    else:\n",
    "        random.shuffle(global_subjects)\n",
    "        classes = [global_subjects.pop() for _ in range(MAX_CLASSES_PER_STUDENT)]\n",
    "\n",
    "    return classes\n",
    "\n",
    "def do_calendar(student_info):\n",
    "    calendar = {day: [] for day in Day}\n",
    "\n",
    "    for student in Student:\n",
    "        for subject, day in student_info[student]:\n",
    "            calendar[day].append(subject)\n",
    "\n",
    "    return calendar\n",
    "\n",
    "              \n",
    "def initial_node_initializer():\n",
    "    \"\"\"\n",
    "    Esta funcion se encarga de inicializar las variables de forma que se asegure\n",
    "    que el problema se pueda resolver. Es decir que todos los estudiantes no se \n",
    "    asignen mas materias de las que hay dias; y que no los alumnos no se asignen todos\n",
    "    exactamente las mismas materias.\n",
    "    \"\"\"\n",
    "    student_info = {}\n",
    "    \n",
    "\n",
    "    for student in Student:\n",
    "        classes = pick_subjects()\n",
    "        days = random.sample(list(Day), MAX_CLASSES_PER_STUDENT)\n",
    "        student_info[student] = list(zip(classes, days))\n",
    "\n",
    "    calendar = do_calendar(student_info)\n",
    "        \n",
    "    return Node(student_info, calendar)\n"
   ]
  },
  {
   "cell_type": "markdown",
   "metadata": {},
   "source": [
    "## Funciones Utiles para Beam Search"
   ]
  },
  {
   "cell_type": "code",
   "execution_count": 12,
   "metadata": {},
   "outputs": [],
   "source": [
    "def scoring_function(node: Node):\n",
    "    \"\"\"\n",
    "    Esta funcion se encarga de evaluar la calidad de la solucion propuesta, en este caso la calendarizacion.\n",
    "    \"\"\"\n",
    "    calendar = node.calendar\n",
    "    repeated_subjects_count = 0\n",
    "\n",
    "    for day in calendar.keys():        \n",
    "        days_set = set(calendar[day])        \n",
    "        if len(days_set) < MAX_CLASSES_PER_DAY:\n",
    "            repeated_subjects_count +=  MAX_CLASSES_PER_DAY - len(days_set) \n",
    "\n",
    "    return repeated_subjects_count\n",
    "\n",
    "\n",
    "def huristic(node: Node):\n",
    "    \"\"\"\n",
    "    implementar la heuristica para resolver el problema. Permutar los dias de los examenes de los estudiantes\n",
    "    \"\"\"\n",
    "    student_info = node.student_info\n",
    "\n",
    "    students_selected = random.sample(list(Student), 2)\n",
    "    student1, student2 = students_selected\n",
    "\n",
    "    random.shuffle(student_info[student1])\n",
    "    stud1_class = list(student_info[student1].pop())\n",
    "\n",
    "    random.shuffle(student_info[student2])\n",
    "    stud2_class = list(student_info[student2].pop())\n",
    "\n",
    "    stud1_class_day = stud1_class[1]\n",
    "    stud2_class_day = stud2_class[1]\n",
    "\n",
    "    stud1_class[1] = stud2_class_day\n",
    "    stud2_class[1] = stud1_class_day\n",
    "\n",
    "    student_info[student1].append(tuple(stud1_class))\n",
    "    student_info[student2].append(tuple(stud2_class))\n",
    "\n",
    "\n",
    "    node.student_info = student_info\n",
    "    node.calendar = do_calendar(student_info)\n",
    "    return node\n"
   ]
  },
  {
   "cell_type": "markdown",
   "metadata": {},
   "source": [
    "## Beam Search Class"
   ]
  },
  {
   "cell_type": "code",
   "execution_count": 18,
   "metadata": {},
   "outputs": [],
   "source": [
    "class BeamSearch:\n",
    "    def __init__(self, score_function: callable, heuristic: callable, initial_object,\\\n",
    "                  best_score=0, beam_width=2, max_iterations=100):\n",
    "        \"\"\"\n",
    "        Args:\n",
    "            score_function (callable): Esta funcion toma como parametro el objeto tipo initial object y retorna un valor numerico\n",
    "            heuristic (callable): La modificacion que se va a hacer al objeto para generar nuevos objetos\n",
    "            initial_object (_type_): El objeto del estado inicial\n",
    "            beam_width (int, optional): Beam width. Defaults to 2.\n",
    "            max_iterations (int, optional): Cantidad máxima de iteraciones. Defaults to 100.\n",
    "        \"\"\"\n",
    "\n",
    "        # Functions\n",
    "        self.score_function = score_function\n",
    "        self.heuristic = heuristic\n",
    "\n",
    "        # Object\n",
    "        self.initial_object = initial_object\n",
    "\n",
    "        # Hyperparameters\n",
    "        self.beam_width = beam_width\n",
    "        self.max_iterations = max_iterations\n",
    "        self.best_score = best_score\n",
    "\n",
    "        self.best_node = None        \n",
    "        self.best_object = None\n",
    "\n",
    "        # C list\n",
    "        self.C = [(initial_object, self.score_function(initial_object))]\n",
    "\n",
    "\n",
    "    def _iteration(self):        \n",
    "        for object_tuple in self.C:\n",
    "            for _ in range(self.beam_width):\n",
    "                new_object = self.heuristic(object_tuple[0])\n",
    "                new_score = self.score_function(new_object)\n",
    "\n",
    "                self.C.append(tuple((new_object, new_score)))\n",
    "\n",
    "        # Ordenamos la lista de acuerdo a la funcion de scoring\n",
    "        self.C = sorted(self.C, key=lambda x: x[1])\n",
    "\n",
    "        # Nos quedamos con los mejores elementos\n",
    "        if len(self.C) > self.beam_width:\n",
    "            self.C = self.C[:self.beam_width]\n",
    "\n",
    "\n",
    "    def search(self):\n",
    "        # revisamos que el caso inicial sea el mejor\n",
    "        if self.score_function(self.initial_object) == self.best_score:\n",
    "            return self.initial_object, self.best_score\n",
    "\n",
    "        for _ in range(self.max_iterations):\n",
    "            self._iteration()\n",
    "\n",
    "        self.best_object = self.C[0]\n",
    "        best_object_score = self.best_object[1]\n",
    "\n",
    "        return self.best_object, best_object_score\n",
    "    "
   ]
  },
  {
   "cell_type": "code",
   "execution_count": 20,
   "metadata": {},
   "outputs": [
    {
     "data": {
      "text/plain": [
       "Node(student_info={<Student.GUSTAVO: 0>: [(<Subject.BIOLOGY: 6>, <Day.MONDAY: 0>), (<Subject.HISTORY: 1>, <Day.TUESDAY: 1>), (<Subject.ENGLISH: 5>, <Day.WEDNESDAY: 2>)], <Student.GABRIELA: 1>: [(<Subject.CHEMISTRY: 3>, <Day.WEDNESDAY: 2>), (<Subject.HISTORY: 1>, <Day.MONDAY: 0>), (<Subject.BIOLOGY: 6>, <Day.TUESDAY: 1>)], <Student.JUAN: 2>: [(<Subject.SPANISH: 4>, <Day.WEDNESDAY: 2>), (<Subject.PHYSICS: 2>, <Day.MONDAY: 0>), (<Subject.ENGLISH: 5>, <Day.TUESDAY: 1>)], <Student.LUIS: 3>: [(<Subject.MATH: 0>, <Day.WEDNESDAY: 2>), (<Subject.SPANISH: 4>, <Day.TUESDAY: 1>), (<Subject.MATH: 0>, <Day.MONDAY: 0>)]}, calendar={<Day.MONDAY: 0>: [<Subject.BIOLOGY: 6>, <Subject.HISTORY: 1>, <Subject.PHYSICS: 2>, <Subject.MATH: 0>], <Day.TUESDAY: 1>: [<Subject.HISTORY: 1>, <Subject.BIOLOGY: 6>, <Subject.ENGLISH: 5>, <Subject.SPANISH: 4>], <Day.WEDNESDAY: 2>: [<Subject.ENGLISH: 5>, <Subject.CHEMISTRY: 3>, <Subject.SPANISH: 4>, <Subject.MATH: 0>]})"
      ]
     },
     "execution_count": 20,
     "metadata": {},
     "output_type": "execute_result"
    }
   ],
   "source": [
    "init = initial_node_initializer()\n",
    "beam_search = BeamSearch(scoring_function, huristic, init, beam_width=3)\n",
    "best_object, best_score = beam_search.search()\n",
    "\n",
    "print(best_object)\n",
    "print()\n",
    "print(best_score)"
   ]
  }
 ],
 "metadata": {
  "kernelspec": {
   "display_name": "Python 3",
   "language": "python",
   "name": "python3"
  },
  "language_info": {
   "codemirror_mode": {
    "name": "ipython",
    "version": 3
   },
   "file_extension": ".py",
   "mimetype": "text/x-python",
   "name": "python",
   "nbconvert_exporter": "python",
   "pygments_lexer": "ipython3",
   "version": "3.9.2"
  }
 },
 "nbformat": 4,
 "nbformat_minor": 2
}
