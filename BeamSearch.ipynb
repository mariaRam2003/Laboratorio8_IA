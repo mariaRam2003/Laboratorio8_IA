{
 "cells": [
  {
   "cell_type": "code",
   "execution_count": 59,
   "metadata": {},
   "outputs": [],
   "source": [
    "from dataclasses import dataclass\n",
    "import matplotlib.pyplot as plt\n",
    "from enum import Enum\n",
    "import random\n",
    "import copy \n",
    "import time"
   ]
  },
  {
   "cell_type": "markdown",
   "metadata": {},
   "source": [
    "## Clases utiles para visualizar los resultados"
   ]
  },
  {
   "cell_type": "code",
   "execution_count": 60,
   "metadata": {},
   "outputs": [],
   "source": [
    "@dataclass\n",
    "class Node:\n",
    "    student_info: list\n",
    "    calendar: list\n",
    "\n",
    "class Student(Enum):\n",
    "    GUSTAVO = 0\n",
    "    GABRIELA = 1\n",
    "    JUAN = 2\n",
    "    LUIS = 3\n",
    "\n",
    "class Subject(Enum):\n",
    "    MATH = 0\n",
    "    HISTORY = 1\n",
    "    PHYSICS = 2\n",
    "    CHEMISTRY = 3\n",
    "    SPANISH = 4\n",
    "    ENGLISH = 5\n",
    "    BIOLOGY = 6\n",
    "\n",
    "class Day(Enum):\n",
    "    MONDAY = 0\n",
    "    TUESDAY = 1\n",
    "    WEDNESDAY = 2\n",
    "\n",
    "MAX_CLASSES_PER_STUDENT = 3\n",
    "MAX_CLASSES_PER_DAY = len(Student)"
   ]
  },
  {
   "cell_type": "markdown",
   "metadata": {},
   "source": [
    "## Inicialización del Estado Inicial"
   ]
  },
  {
   "cell_type": "code",
   "execution_count": 61,
   "metadata": {},
   "outputs": [],
   "source": [
    "global_subjects = list(Subject)\n",
    "\n",
    "def pick_subjects():\n",
    "    \"\"\"Esta funcion se encarga de asignar materias a los estudiantes de la forma mas diversa posible.\n",
    "    Esto es importante porque de lo contrario se podria dar el caso de que todos los estudiantes se \n",
    "    asignen las mismas materias y no se pueda resolver el problema.\n",
    "    \"\"\"\n",
    "    global global_subjects\n",
    "    \n",
    "    if len(global_subjects) == 0:\n",
    "        global_subjects = list(Subject)\n",
    "    \n",
    "    if len(global_subjects) < MAX_CLASSES_PER_STUDENT:\n",
    "        classes = [global_subjects.pop() for _ in range(len(global_subjects))]\n",
    "        len_classes = len(classes)\n",
    "        global_subjects = list(Subject)\n",
    "        random.shuffle(global_subjects)\n",
    "\n",
    "        for _ in range(MAX_CLASSES_PER_STUDENT - len_classes):\n",
    "            classes.append(global_subjects.pop())\n",
    "    else:\n",
    "        random.shuffle(global_subjects)\n",
    "        classes = [global_subjects.pop() for _ in range(MAX_CLASSES_PER_STUDENT)]\n",
    "\n",
    "    return classes\n",
    "\n",
    "def do_calendar(student_info):\n",
    "    \"\"\"\n",
    "    Esta funcion se encarga de crear un calendario con las materias asignadas a los estudiantes.\n",
    "    \"\"\"\n",
    "    calendar = {day: [] for day in Day}\n",
    "\n",
    "    for student in Student:\n",
    "        for subject, day in student_info[student]:\n",
    "            calendar[day].append(subject)\n",
    "\n",
    "    return calendar\n",
    "\n",
    "              \n",
    "def initial_node_initializer():\n",
    "    \"\"\"\n",
    "    Esta funcion se encarga de inicializar las variables de forma que se asegure\n",
    "    que el problema se pueda resolver. Es decir que todos los estudiantes no se \n",
    "    asignen mas materias de las que hay dias; y que no los alumnos no se asignen todos\n",
    "    exactamente las mismas materias.\n",
    "    \"\"\"\n",
    "    student_info = {}\n",
    "    \n",
    "\n",
    "    for student in Student:\n",
    "        classes = pick_subjects()\n",
    "        days = random.sample(list(Day), MAX_CLASSES_PER_STUDENT)\n",
    "        student_info[student] = list(zip(classes, days))\n",
    "\n",
    "    calendar = do_calendar(student_info)\n",
    "        \n",
    "    return Node(student_info, calendar)\n"
   ]
  },
  {
   "cell_type": "markdown",
   "metadata": {},
   "source": [
    "## Funciones Utiles para Beam Search"
   ]
  },
  {
   "cell_type": "code",
   "execution_count": 62,
   "metadata": {},
   "outputs": [],
   "source": [
    "def scoring_function(node: Node):\n",
    "    \"\"\"\n",
    "    Esta funcion se encarga de evaluar la calidad de la solucion propuesta, en este caso la calendarizacion.\n",
    "    \"\"\"\n",
    "    calendar = node.calendar\n",
    "    student_info = node.student_info\n",
    "    repeated_subjects_count = 0\n",
    "\n",
    "    for day in calendar.keys():        \n",
    "        days_set = set(calendar[day])        \n",
    "        if len(days_set) < MAX_CLASSES_PER_DAY:\n",
    "            repeated_subjects_count +=  MAX_CLASSES_PER_DAY - len(days_set) \n",
    "\n",
    "    for student in student_info.keys():\n",
    "        days_set = set(day for _, day in student_info[student])\n",
    "        if len(days_set) < MAX_CLASSES_PER_STUDENT:\n",
    "            repeated_subjects_count += MAX_CLASSES_PER_STUDENT - len(days_set)\n",
    "\n",
    "    return repeated_subjects_count\n",
    "\n",
    "\n",
    "\n",
    "def huristic(node: Node):\n",
    "    \"\"\"\n",
    "    implementar la heuristica para resolver el problema. Permutar los dias de los examenes de los estudiantes\n",
    "    \"\"\"\n",
    "    student_info = copy.deepcopy(node.student_info)\n",
    "\n",
    "    students_selected = random.sample(list(Student), 2)\n",
    "    student1, student2 = students_selected\n",
    "\n",
    "    random.shuffle(student_info[student1])\n",
    "    stud1_class = list(student_info[student1].pop())\n",
    "\n",
    "    random.shuffle(student_info[student2])\n",
    "    stud2_class = list(student_info[student2].pop())\n",
    "\n",
    "    stud1_class_day = stud1_class[1]\n",
    "    stud2_class_day = stud2_class[1]\n",
    "\n",
    "    stud1_class[1] = stud2_class_day\n",
    "    stud2_class[1] = stud1_class_day\n",
    "\n",
    "    student_info[student1].append(tuple(stud1_class))\n",
    "    student_info[student2].append(tuple(stud2_class))\n",
    "\n",
    "    return Node(student_info, do_calendar(student_info))\n"
   ]
  },
  {
   "cell_type": "markdown",
   "metadata": {},
   "source": [
    "## Beam Search Class"
   ]
  },
  {
   "cell_type": "code",
   "execution_count": 63,
   "metadata": {},
   "outputs": [],
   "source": [
    "class BeamSearch:\n",
    "    def __init__(self, score_function: callable, heuristic: callable, initial_object,\\\n",
    "                  best_score=0, beam_width=2, max_iterations=100):\n",
    "        \"\"\"\n",
    "        Args:\n",
    "            score_function (callable): Esta funcion toma como parametro el objeto tipo initial object y retorna un valor numerico\n",
    "            heuristic (callable): La modificacion que se va a hacer al objeto para generar nuevos objetos\n",
    "            initial_object (_type_): El objeto del estado inicial\n",
    "            beam_width (int, optional): Beam width. Defaults to 2.\n",
    "            max_iterations (int, optional): Cantidad máxima de iteraciones. Defaults to 100.\n",
    "        \"\"\"\n",
    "\n",
    "        # Functions\n",
    "        self.score_function = score_function\n",
    "        self.heuristic = heuristic\n",
    "\n",
    "        # Object\n",
    "        self.initial_object = initial_object\n",
    "\n",
    "        # Hyperparameters\n",
    "        self.beam_width = beam_width\n",
    "        self.max_iterations = max_iterations\n",
    "        self.best_score = best_score\n",
    "\n",
    "        self.best_node = None        \n",
    "        self.best_object = None\n",
    "\n",
    "        # C list\n",
    "        self.C = [(initial_object, self.score_function(initial_object))]\n",
    "\n",
    "\n",
    "    def _iteration(self):        \n",
    "        current = []\n",
    "        for object_tuple in self.C:\n",
    "            for _ in range(self.beam_width):\n",
    "                new_object = self.heuristic(object_tuple[0])\n",
    "                new_score = self.score_function(new_object)\n",
    "\n",
    "                current.append(tuple((new_object, new_score)))\n",
    "            \n",
    "        self.C += current\n",
    "\n",
    "        # Ordenamos la lista de acuerdo a la funcion de scoring\n",
    "        self.C = sorted(self.C, key=lambda x: x[1])\n",
    "\n",
    "        # Nos quedamos con los mejores elementos\n",
    "        if len(self.C) > self.beam_width:\n",
    "            self.C = self.C[:self.beam_width]\n",
    "\n",
    "\n",
    "    def search(self):\n",
    "        # revisamos que el caso inicial sea el mejor\n",
    "        if self.score_function(self.initial_object) == self.best_score:\n",
    "            return self.initial_object, self.best_score\n",
    "\n",
    "        for _ in range(self.max_iterations):\n",
    "            self._iteration()\n",
    "\n",
    "        self.best_object = self.C[0]\n",
    "        best_object_score = self.best_object[1]\n",
    "\n",
    "        return self.best_object[0], best_object_score\n",
    "    "
   ]
  },
  {
   "cell_type": "markdown",
   "metadata": {},
   "source": [
    "## Ejemplo de resultado"
   ]
  },
  {
   "cell_type": "code",
   "execution_count": 64,
   "metadata": {},
   "outputs": [
    {
     "name": "stdout",
     "output_type": "stream",
     "text": [
      "GUSTAVO:\n",
      "  CHEMISTRY on WEDNESDAY\n",
      "  BIOLOGY on TUESDAY\n",
      "  HISTORY on MONDAY\n",
      "\n",
      "GABRIELA:\n",
      "  ENGLISH on WEDNESDAY\n",
      "  MATH on TUESDAY\n",
      "  PHYSICS on MONDAY\n",
      "\n",
      "JUAN:\n",
      "  SPANISH on TUESDAY\n",
      "  PHYSICS on WEDNESDAY\n",
      "  BIOLOGY on MONDAY\n",
      "\n",
      "LUIS:\n",
      "  HISTORY on MONDAY\n",
      "  MATH on TUESDAY\n",
      "  CHEMISTRY on WEDNESDAY\n",
      "\n"
     ]
    }
   ],
   "source": [
    "def print_schedule(schedule):\n",
    "    for student, subjects in schedule.items():\n",
    "        print(f\"{student.name}:\")\n",
    "        for subject, day in subjects:\n",
    "            print(f\"  {subject.name} on {day.name}\")\n",
    "        print()\n",
    "\n",
    "init = initial_node_initializer()\n",
    "beam_search = BeamSearch(scoring_function, huristic, init)\n",
    "result = beam_search.search()[0].student_info\n",
    "print_schedule(result)"
   ]
  },
  {
   "cell_type": "markdown",
   "metadata": {},
   "source": [
    "## Performace"
   ]
  },
  {
   "cell_type": "code",
   "execution_count": 74,
   "metadata": {},
   "outputs": [
    {
     "name": "stdout",
     "output_type": "stream",
     "text": [
      "[1.3594300746917725, 1.2770471572875977, 1.3113021850585938e-05, 1.2258429527282715, 1.2276358604431152, 1.21291184425354, 1.2255148887634277, 1.2407300472259521, 1.1920928955078125e-05, 1.275888204574585]\n",
      "[0, 1, 0, 0, 0, 1, 1, 2, 0, 0]\n"
     ]
    }
   ],
   "source": [
    "max_iter = 100\n",
    "tests = 10\n",
    "beam_width = 10\n",
    "execution_times = []\n",
    "execution_scores = []\n",
    "\n",
    "for i in range(tests):\n",
    "    init = initial_node_initializer()\n",
    "    beam_search = BeamSearch(scoring_function, huristic, init, beam_width=beam_width, max_iterations=max_iter)\n",
    "\n",
    "    start_time = time.time()\n",
    "    best_object, best_score = beam_search.search()\n",
    "    end_time = time.time()\n",
    "\n",
    "    execution_time = end_time - start_time\n",
    "    execution_times.append(execution_time)\n",
    "    execution_scores.append(best_score)\n",
    "\n",
    "print(execution_times)\n",
    "print(execution_scores)"
   ]
  },
  {
   "cell_type": "code",
   "execution_count": 75,
   "metadata": {},
   "outputs": [
    {
     "data": {
      "image/png": "[encoded data removed]",
      "text/plain": [
       "<Figure size 1000x600 with 1 Axes>"
      ]
     },
     "metadata": {},
     "output_type": "display_data"
    }
   ],
   "source": [
    "plt.figure(figsize=(10, 6))\n",
    "plt.bar(range(len(execution_times)), execution_times)\n",
    "plt.title('Bar Chart')\n",
    "plt.xlabel('Intentos')\n",
    "plt.ylabel('Tiempo de ejecución')\n",
    "plt.grid(True)\n",
    "plt.show()"
   ]
  },
  {
   "cell_type": "markdown",
   "metadata": {},
   "source": [
    "Todos los casos fuerone exitosos lo unico que varió fue el tiempo de ejecución."
   ]
  }
 ],
 "metadata": {
  "kernelspec": {
   "display_name": "Python 3",
   "language": "python",
   "name": "python3"
  },
  "language_info": {
   "codemirror_mode": {
    "name": "ipython",
    "version": 3
   },
   "file_extension": ".py",
   "mimetype": "text/x-python",
   "name": "python",
   "nbconvert_exporter": "python",
   "pygments_lexer": "ipython3",
   "version": "3.9.2"
  }
 },
 "nbformat": 4,
 "nbformat_minor": 2
}
