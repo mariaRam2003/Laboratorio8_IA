{
 "cells": [
  {
   "cell_type": "markdown",
   "metadata": {},
   "source": [
    "# Laboratorio 8 - IA\n",
    "Gustavo Andres Gonzalez Pineda - 21438\n",
    "Maria Marta Ramirez Gil - 21342"
   ]
  },
  {
   "cell_type": "markdown",
   "metadata": {},
   "source": [
    "# Task 1 \n",
    "\n",
    "### 1. Investigar el algoritmo AC-3 y su relación con el algoritmo de backtracking search\n",
    "El algoritmo AC-3 (Algoritmo de Consistencia de Arcos-3) es un algoritmo de inferencia utilizado en la resolución de problemas de satisfacción de restricciones (CSP, por sus siglas en inglés). El objetivo principal del AC-3 es reducir el dominio de las variables en un CSP mediante la eliminación de valores inconsistentes. Esto se logra propagando restricciones a través de los arcos del grafo de restricciones. \n",
    "\n",
    "Por otro lado, el algoritmo de búsqueda de vuelta atrás (backtracking search) es un enfoque general utilizado para buscar soluciones en problemas de CSP. Comienza con una asignación parcial de valores a variables y, de manera recursiva, prueba valores alternativos para las variables no asignadas hasta que se encuentre una solución o se determine que no hay solución posible. Cuando se encuentra una inconsistencia durante la búsqueda, el algoritmo de backtracking se retrocede (backtracks) a la asignación anterior y prueba una alternativa diferente.\n",
    "\n",
    "La relación entre AC-3 y el algoritmo de backtracking search radica en el hecho de que AC-3 se puede utilizar como una técnica de preprocesamiento para reducir el espacio de búsqueda antes de aplicar la búsqueda de vuelta atrás. Al reducir el dominio de las variables y eliminar valores inconsistentes, AC-3 puede ayudar a mejorar la eficiencia de la búsqueda de vuelta atrás al reducir la cantidad de ramificaciones y, por lo tanto, el tiempo de búsqueda total. En muchos casos, AC-3 se emplea como un paso inicial para mejorar la eficiencia de algoritmos de búsqueda más complejos, como el algoritmo de backtracking.\n",
    "\n",
    "### 2. Defina en sus propias palabras el término “Arc Consistency”\n",
    "\"Consistencia de arcos\" (Arc Consistency) es una propiedad en problemas de satisfacción de restricciones (CSP) que indica que para cada variable en el problema, cada valor en su dominio es consistente con al menos una de las restricciones que involucran esa variable. En otras palabras, un CSP se dice que es arc consistente si, para cada arco (par de variables relacionadas por una restricción), todos los valores en el dominio de la primera variable son consistentes con al menos un valor en el dominio de la segunda variable."
   ]
  },
  {
   "cell_type": "markdown",
   "metadata": {},
   "source": [
    "### Referencias\n",
    "- Larrosa, J., & Meseguer, P. (2003). Algoritmos para Satisfacci on de Restricciones. Inteligencia Artificial: Revista Iberoamericana de Inteligencia Artificial, 20, 31-42.\n",
    "\n",
    "- Van Hentenryck, P., Deville, Y., & Teng, C. M. (1992). A generic arc-consistency algorithm and its specializations. Artificial intelligence, 57(2-3), 291-321."
   ]
  }
 ],
 "metadata": {
  "language_info": {
   "name": "python"
  }
 },
 "nbformat": 4,
 "nbformat_minor": 2
}
